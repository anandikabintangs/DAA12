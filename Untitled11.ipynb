{
  "nbformat": 4,
  "nbformat_minor": 0,
  "metadata": {
    "colab": {
      "provenance": []
    },
    "kernelspec": {
      "name": "python3",
      "display_name": "Python 3"
    },
    "language_info": {
      "name": "python"
    }
  },
  "cells": [
    {
      "cell_type": "code",
      "execution_count": 5,
      "metadata": {
        "colab": {
          "base_uri": "https://localhost:8080/"
        },
        "id": "hHd9x68ICZN8",
        "outputId": "37c29616-e36d-4a25-889d-d9e7b1eeb33e"
      },
      "outputs": [
        {
          "output_type": "stream",
          "name": "stdout",
          "text": [
            "Looking in indexes: https://pypi.org/simple, https://us-python.pkg.dev/colab-wheels/public/simple/\n",
            "Requirement already satisfied: networkx in /usr/local/lib/python3.7/dist-packages (2.6.3)\n"
          ]
        }
      ],
      "source": [
        "pip install networkx"
      ]
    },
    {
      "cell_type": "code",
      "source": [
        "import networkx as nx\n",
        "import matplotlib.pyplot as plt\n",
        "\n",
        "vertices = range(1,10)\n",
        "edges = [(7,2), (2,3), (7,4), (4,5), (7,3), (7,5), (1,6), (1,7), (2,8), (2,9)]\n",
        "G = nx.Graph()\n",
        "G.add_nodes_from(vertices)\n",
        "G.add_edges_from(edges)\n",
        "nx.draw(G, with_labels=True, node_color='y',node_size=800)"
      ],
      "metadata": {
        "colab": {
          "base_uri": "https://localhost:8080/",
          "height": 319
        },
        "id": "xUBb10oVFgKB",
        "outputId": "89f5820e-86f6-418f-dea6-aa90896bba0a"
      },
      "execution_count": 6,
      "outputs": [
        {
          "output_type": "display_data",
          "data": {
            "text/plain": [
              "<Figure size 432x288 with 1 Axes>"
            ],
            "image/png": "[encoded data removed]"
          },
          "metadata": {}
        }
      ]
    },
    {
      "cell_type": "code",
      "source": [
        "nx.degree_centrality(G)"
      ],
      "metadata": {
        "colab": {
          "base_uri": "https://localhost:8080/"
        },
        "id": "j3hZh-otF4RJ",
        "outputId": "f1b0347c-0c17-4deb-b84e-151a17dbb1f5"
      },
      "execution_count": 7,
      "outputs": [
        {
          "output_type": "execute_result",
          "data": {
            "text/plain": [
              "{1: 0.25,\n",
              " 2: 0.5,\n",
              " 3: 0.25,\n",
              " 4: 0.25,\n",
              " 5: 0.25,\n",
              " 6: 0.125,\n",
              " 7: 0.625,\n",
              " 8: 0.125,\n",
              " 9: 0.125}"
            ]
          },
          "metadata": {},
          "execution_count": 7
        }
      ]
    },
    {
      "cell_type": "code",
      "source": [
        "nx.betweenness_centrality(G)"
      ],
      "metadata": {
        "colab": {
          "base_uri": "https://localhost:8080/"
        },
        "id": "OEy3tWczI5hh",
        "outputId": "be3c92b5-3d74-49e4-d58e-bf1b912b256d"
      },
      "execution_count": 8,
      "outputs": [
        {
          "output_type": "execute_result",
          "data": {
            "text/plain": [
              "{1: 0.25,\n",
              " 2: 0.46428571428571425,\n",
              " 3: 0.0,\n",
              " 4: 0.0,\n",
              " 5: 0.0,\n",
              " 6: 0.0,\n",
              " 7: 0.7142857142857142,\n",
              " 8: 0.0,\n",
              " 9: 0.0}"
            ]
          },
          "metadata": {},
          "execution_count": 8
        }
      ]
    },
    {
      "cell_type": "code",
      "source": [
        "nx.closeness_centrality(G)"
      ],
      "metadata": {
        "colab": {
          "base_uri": "https://localhost:8080/"
        },
        "id": "dRkZh3rtL2b4",
        "outputId": "c766b5c7-0b37-408b-bb14-6356baf08839"
      },
      "execution_count": 10,
      "outputs": [
        {
          "output_type": "execute_result",
          "data": {
            "text/plain": [
              "{1: 0.5,\n",
              " 2: 0.6153846153846154,\n",
              " 3: 0.5333333333333333,\n",
              " 4: 0.47058823529411764,\n",
              " 5: 0.47058823529411764,\n",
              " 6: 0.34782608695652173,\n",
              " 7: 0.7272727272727273,\n",
              " 8: 0.4,\n",
              " 9: 0.4}"
            ]
          },
          "metadata": {},
          "execution_count": 10
        }
      ]
    },
    {
      "cell_type": "code",
      "source": [
        "centrality = nx.eigenvector_centrality(G)\n",
        "sorted((v, '{:0.2f}'.format(c)) for v, c in centrality.items())"
      ],
      "metadata": {
        "colab": {
          "base_uri": "https://localhost:8080/"
        },
        "id": "OnRdto66PS-_",
        "outputId": "430b9398-5f03-4103-fcd8-5f2b8fae1e8a"
      },
      "execution_count": 9,
      "outputs": [
        {
          "output_type": "execute_result",
          "data": {
            "text/plain": [
              "[(1, '0.24'),\n",
              " (2, '0.45'),\n",
              " (3, '0.36'),\n",
              " (4, '0.32'),\n",
              " (5, '0.32'),\n",
              " (6, '0.08'),\n",
              " (7, '0.59'),\n",
              " (8, '0.16'),\n",
              " (9, '0.16')]"
            ]
          },
          "metadata": {},
          "execution_count": 9
        }
      ]
    },
    {
      "cell_type": "code",
      "source": [
        "G = nx.Graph()\n",
        "\n",
        "G.add_edges_from( [('Bob','Mike'), ('Bob','Jill'), ('Bob','Emma'), ('Bob','John'), \n",
        "                   ('John','Jill'), ('John','Shane'), ('John','Leah'),\n",
        "                   ('Mike','Jill'), ('Mike','Emma'),\n",
        "                   ('Jill','Emma'), ('Jill','Shane'), ('Jill','Leah'),\n",
        "                   ('Leah','Shane'), ('Emma','Liz'), ('Emma','Shane'),\n",
        "                   ('Shane','Liz'), ('Liz','Allen'), ('Allen','Lisa')])\n",
        "\n",
        "nx.draw(G, with_labels=True, node_color='purple', node_size=1200, font_color='cyan')\n",
        "\n",
        "plt.show()"
      ],
      "metadata": {
        "colab": {
          "base_uri": "https://localhost:8080/",
          "height": 319
        },
        "id": "X4RIW3RbSwh3",
        "outputId": "2dba5fb9-a241-4eb8-aa21-e7d25eeada08"
      },
      "execution_count": 10,
      "outputs": [
        {
          "output_type": "display_data",
          "data": {
            "text/plain": [
              "<Figure size 432x288 with 1 Axes>"
            ],
            "image/png": "[encoded data removed]"
          },
          "metadata": {}
        }
      ]
    },
    {
      "cell_type": "code",
      "source": [
        "nx.degree_centrality(G)"
      ],
      "metadata": {
        "colab": {
          "base_uri": "https://localhost:8080/"
        },
        "id": "TQq3qj7jUZxO",
        "outputId": "a071eb2b-5068-4908-aa47-11e560dd4b2a"
      },
      "execution_count": 11,
      "outputs": [
        {
          "output_type": "execute_result",
          "data": {
            "text/plain": [
              "{'Bob': 0.4444444444444444,\n",
              " 'Mike': 0.3333333333333333,\n",
              " 'Jill': 0.6666666666666666,\n",
              " 'Emma': 0.5555555555555556,\n",
              " 'John': 0.4444444444444444,\n",
              " 'Shane': 0.5555555555555556,\n",
              " 'Leah': 0.3333333333333333,\n",
              " 'Liz': 0.3333333333333333,\n",
              " 'Allen': 0.2222222222222222,\n",
              " 'Lisa': 0.1111111111111111}"
            ]
          },
          "metadata": {},
          "execution_count": 11
        }
      ]
    },
    {
      "cell_type": "code",
      "source": [
        "nx.betweenness_centrality(G)"
      ],
      "metadata": {
        "colab": {
          "base_uri": "https://localhost:8080/"
        },
        "id": "8U8mFJ7RUf6m",
        "outputId": "880b9557-ea07-4036-d4bc-3ba8a4e98896"
      },
      "execution_count": 12,
      "outputs": [
        {
          "output_type": "execute_result",
          "data": {
            "text/plain": [
              "{'Bob': 0.023148148148148143,\n",
              " 'Mike': 0.0,\n",
              " 'Jill': 0.10185185185185183,\n",
              " 'Emma': 0.23148148148148148,\n",
              " 'John': 0.023148148148148143,\n",
              " 'Shane': 0.23148148148148143,\n",
              " 'Leah': 0.0,\n",
              " 'Liz': 0.38888888888888884,\n",
              " 'Allen': 0.2222222222222222,\n",
              " 'Lisa': 0.0}"
            ]
          },
          "metadata": {},
          "execution_count": 12
        }
      ]
    },
    {
      "cell_type": "code",
      "source": [
        "nx.closeness_centrality(G)"
      ],
      "metadata": {
        "colab": {
          "base_uri": "https://localhost:8080/"
        },
        "id": "YkqMQKo3UjL2",
        "outputId": "57c9f7a7-c494-4913-c4dd-dd53cfab0f15"
      },
      "execution_count": 13,
      "outputs": [
        {
          "output_type": "execute_result",
          "data": {
            "text/plain": [
              "{'Bob': 0.5294117647058824,\n",
              " 'Mike': 0.5,\n",
              " 'Jill': 0.6,\n",
              " 'Emma': 0.6428571428571429,\n",
              " 'John': 0.5294117647058824,\n",
              " 'Shane': 0.6428571428571429,\n",
              " 'Leah': 0.5,\n",
              " 'Liz': 0.6,\n",
              " 'Allen': 0.42857142857142855,\n",
              " 'Lisa': 0.3103448275862069}"
            ]
          },
          "metadata": {},
          "execution_count": 13
        }
      ]
    },
    {
      "cell_type": "code",
      "source": [
        "centrality = nx.eigenvector_centrality(G)\n",
        "sorted((v, '{:0.2f}'.format(c)) for v, c in centrality.items())"
      ],
      "metadata": {
        "colab": {
          "base_uri": "https://localhost:8080/"
        },
        "id": "LdXvRFyOUqTm",
        "outputId": "96dd72ef-02cb-4a34-fcfb-88c1663adc75"
      },
      "execution_count": 14,
      "outputs": [
        {
          "output_type": "execute_result",
          "data": {
            "text/plain": [
              "[('Allen', '0.05'),\n",
              " ('Bob', '0.35'),\n",
              " ('Emma', '0.40'),\n",
              " ('Jill', '0.48'),\n",
              " ('John', '0.35'),\n",
              " ('Leah', '0.29'),\n",
              " ('Lisa', '0.01'),\n",
              " ('Liz', '0.20'),\n",
              " ('Mike', '0.29'),\n",
              " ('Shane', '0.40')]"
            ]
          },
          "metadata": {},
          "execution_count": 14
        }
      ]
    },
    {
      "cell_type": "code",
      "source": [
        "vertices = range(1,15)\n",
        "edges = [(9,6), (7,6), (14,6), (8,6), (6,2), (12,2), (11,2), \n",
        "         (2,15), (2,3), (3,13), (5,3), (2,1), (1,4), (1,10)]\n",
        "G = nx.Graph()\n",
        "G.add_nodes_from(vertices)\n",
        "G.add_edges_from(edges)\n",
        "nx.draw(G, with_labels=True, node_color='cyan',node_size=800, font_color='green')\n"
      ],
      "metadata": {
        "colab": {
          "base_uri": "https://localhost:8080/",
          "height": 319
        },
        "id": "FZM6I5zeV-pl",
        "outputId": "e0146c30-d977-4a82-f543-aa12d28504cc"
      },
      "execution_count": 15,
      "outputs": [
        {
          "output_type": "display_data",
          "data": {
            "text/plain": [
              "<Figure size 432x288 with 1 Axes>"
            ],
            "image/png": "[encoded data removed]"
          },
          "metadata": {}
        }
      ]
    },
    {
      "cell_type": "code",
      "source": [
        "nx.degree_centrality(G)"
      ],
      "metadata": {
        "colab": {
          "base_uri": "https://localhost:8080/"
        },
        "id": "x-EQWQoJZ51F",
        "outputId": "87914ada-60fe-4254-f141-b1ae14243938"
      },
      "execution_count": 17,
      "outputs": [
        {
          "output_type": "execute_result",
          "data": {
            "text/plain": [
              "{1: 0.21428571428571427,\n",
              " 2: 0.42857142857142855,\n",
              " 3: 0.21428571428571427,\n",
              " 4: 0.07142857142857142,\n",
              " 5: 0.07142857142857142,\n",
              " 6: 0.3571428571428571,\n",
              " 7: 0.07142857142857142,\n",
              " 8: 0.07142857142857142,\n",
              " 9: 0.07142857142857142,\n",
              " 10: 0.07142857142857142,\n",
              " 11: 0.07142857142857142,\n",
              " 12: 0.07142857142857142,\n",
              " 13: 0.07142857142857142,\n",
              " 14: 0.07142857142857142,\n",
              " 15: 0.07142857142857142}"
            ]
          },
          "metadata": {},
          "execution_count": 17
        }
      ]
    },
    {
      "cell_type": "code",
      "source": [
        "nx.betweenness_centrality(G)"
      ],
      "metadata": {
        "colab": {
          "base_uri": "https://localhost:8080/"
        },
        "id": "pilm76qKaIQN",
        "outputId": "04688955-984b-4f33-9a9e-2a71b5c1a847"
      },
      "execution_count": 19,
      "outputs": [
        {
          "output_type": "execute_result",
          "data": {
            "text/plain": [
              "{1: 0.27472527472527475,\n",
              " 2: 0.8241758241758242,\n",
              " 3: 0.27472527472527475,\n",
              " 4: 0.0,\n",
              " 5: 0.0,\n",
              " 6: 0.5054945054945056,\n",
              " 7: 0.0,\n",
              " 8: 0.0,\n",
              " 9: 0.0,\n",
              " 10: 0.0,\n",
              " 11: 0.0,\n",
              " 12: 0.0,\n",
              " 13: 0.0,\n",
              " 14: 0.0,\n",
              " 15: 0.0}"
            ]
          },
          "metadata": {},
          "execution_count": 19
        }
      ]
    },
    {
      "cell_type": "code",
      "source": [
        "nx.closeness_centrality(G)"
      ],
      "metadata": {
        "colab": {
          "base_uri": "https://localhost:8080/"
        },
        "id": "pl5JoEpTaLG1",
        "outputId": "3d1cc6cf-0c47-407b-ac4d-068f29aada38"
      },
      "execution_count": 21,
      "outputs": [
        {
          "output_type": "execute_result",
          "data": {
            "text/plain": [
              "{1: 0.45161290322580644,\n",
              " 2: 0.6363636363636364,\n",
              " 3: 0.45161290322580644,\n",
              " 4: 0.3181818181818182,\n",
              " 5: 0.3181818181818182,\n",
              " 6: 0.5185185185185185,\n",
              " 7: 0.35,\n",
              " 8: 0.35,\n",
              " 9: 0.35,\n",
              " 10: 0.3181818181818182,\n",
              " 11: 0.4,\n",
              " 12: 0.4,\n",
              " 13: 0.3181818181818182,\n",
              " 14: 0.35,\n",
              " 15: 0.4}"
            ]
          },
          "metadata": {},
          "execution_count": 21
        }
      ]
    },
    {
      "cell_type": "code",
      "source": [
        "\n",
        "centrality = nx.eigenvector_centrality(G)\n",
        "sorted((v, '{:0.2f}'.format(c)) for v, c in centrality.items())"
      ],
      "metadata": {
        "colab": {
          "base_uri": "https://localhost:8080/"
        },
        "id": "chnWXpq4aN9W",
        "outputId": "567e9404-5e94-4af3-f4c2-01139656147b"
      },
      "execution_count": 28,
      "outputs": [
        {
          "output_type": "execute_result",
          "data": {
            "text/plain": [
              "[(1, '0.29'),\n",
              " (2, '0.60'),\n",
              " (3, '0.29'),\n",
              " (4, '0.10'),\n",
              " (5, '0.10'),\n",
              " (6, '0.44'),\n",
              " (7, '0.16'),\n",
              " (8, '0.16'),\n",
              " (9, '0.16'),\n",
              " (10, '0.10'),\n",
              " (11, '0.21'),\n",
              " (12, '0.21'),\n",
              " (13, '0.10'),\n",
              " (14, '0.16'),\n",
              " (15, '0.21')]"
            ]
          },
          "metadata": {},
          "execution_count": 28
        }
      ]
    },
    {
      "cell_type": "code",
      "source": [],
      "metadata": {
        "id": "RTN4MR3geZ0E"
      },
      "execution_count": null,
      "outputs": []
    }
  ]
}